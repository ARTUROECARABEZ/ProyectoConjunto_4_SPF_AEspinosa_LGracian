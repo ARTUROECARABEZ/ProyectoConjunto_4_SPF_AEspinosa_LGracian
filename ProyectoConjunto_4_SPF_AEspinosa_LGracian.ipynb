{
 "cells": [
  {
   "cell_type": "markdown",
   "metadata": {},
   "source": [
    "\n",
    "### Tarea 4 / Clase 7\n",
    "\n",
    "**Nombres:** ARTURO ESPINOSA CARABEZ / \n",
    "\n",
    "**Expediente** : 724189 / \n",
    "\n",
    "**Fecha:** 21 / FEBRERO / 2024\n",
    "\n",
    "\n",
    "**Profesor:** OSCAR D. JARAMILLO ZULUAGA\n",
    "    \n",
    "**Link GIT**:"
   ]
  },
  {
   "cell_type": "markdown",
   "metadata": {},
   "source": [
    "# Tarea\n",
    "\n",
    "# 1\n",
    "Como ejemplo simple de una simulación de Monte Carlo, considere calcular la probabilidad de una suma particular del lanzamiento de tres dados (cada dado tiene valores del uno al seis). Además cada dado tiene las siguientes carácterísticas: el primer dado no está cargado (distribución uniforme todos son equiprobables); el segundo y tercer dado están cargados basados en una distribución binomial con parámetros (`n=5, p=0.5` y `n=5, p=0.2`). Calcule la probabilidad de que la suma resultante sea 7, 14 o 18. "
   ]
  },
  {
   "cell_type": "markdown",
   "metadata": {},
   "source": [
    "Solución ATURO"
   ]
  },
  {
   "cell_type": "code",
   "execution_count": 1,
   "metadata": {},
   "outputs": [],
   "source": [
    "import random"
   ]
  },
  {
   "cell_type": "code",
   "execution_count": 88,
   "metadata": {
    "scrolled": true
   },
   "outputs": [],
   "source": [
    "def dado_truqueado(n, p):\n",
    "    lanzamientos = [random.random() < p for i in range(n)]\n",
    "    return sum(lanzamientos)\n",
    "def monte_carlo(lanzamientos):\n",
    "    conteo_7, conteo_14, conteo_18  = 0, 0, 0\n",
    "\n",
    "    for _ in range(lanzamientos):\n",
    "        dado1 = random.randint(1, 6)\n",
    "        dado2 = dado_truqueado(5, 0.5)\n",
    "        dado3 = dado_truqueado(5, 0.2)\n",
    "        \n",
    "        suma = dado1 + dado2 + dado3\n",
    "        \n",
    "        if suma == 7:\n",
    "            conteo_7+= 1\n",
    "        elif suma == 14:\n",
    "            conteo_14 += 1\n",
    "        elif suma == 18:\n",
    "            conteo_18 += 1\n",
    "\n",
    "    prob_7 = conteo_7 / lanzamientos\n",
    "    prob_14 = conteo_14 / lanzamientos\n",
    "    prob_18 = conteo_18 / lanzamientos\n",
    "\n",
    "    return prob_7, prob_14, probabilidad_18\n",
    "lanzamientos = 100000\n",
    "prob_7, prob_14, prob_18 = monte_carlo(lanzamientos)"
   ]
  },
  {
   "cell_type": "code",
   "execution_count": 89,
   "metadata": {},
   "outputs": [
    {
     "name": "stdout",
     "output_type": "stream",
     "text": [
      "Probabilidad de que la suma resultante sea de 7: 16.2200%\n",
      "Probabilidad de que la suma resultante sea de 14: 0.0420%\n",
      "Probabilidad de que la suma resultante sea de 18: 0.0000%\n"
     ]
    }
   ],
   "source": [
    "print(f\"Probabilidad de que la suma resultante sea de 7: {prob_7*100:.4f}%\")\n",
    "print(f\"Probabilidad de que la suma resultante sea de 14: {prob_14*100:.4f}%\")\n",
    "print(f\"Probabilidad de que la suma resultante sea de 18: {prob_18*100:.4f}%\")"
   ]
  },
  {
   "cell_type": "markdown",
   "metadata": {},
   "source": [
    "# 2 Ejercicio de juego\n",
    "\n",
    "En un casino, un jugador está jugando a lanzar un dado justo de 6 caras. Si el jugador lanza un número par, el casino paga $\\$1$ al jugador, de lo contrario, el jugador paga $\\$1$ al casino. El jugador decide jugar 100 veces.\n",
    "\n",
    "1. ¿Cuál es la probabilidad de que un jugador gane dinero después de 100 lanzamientos del dado bajo las reglas del juego (el casino paga $\\$1$ si el resultado es par y el jugador paga $\\$1$ si es impar)?\n",
    "\n",
    "2. ¿Cómo afectaría el cambio en las reglas del juego (por ejemplo, el casino paga $\\$2$ si el resultado es par y el jugador paga $\\$1$ si es impar) a la ganancia esperada para el jugador después de 100 lanzamientos?"
   ]
  },
  {
   "cell_type": "markdown",
   "metadata": {},
   "source": [
    "<script>\n",
    "  $(document).ready(function(){\n",
    "    $('div.prompt').hide();\n",
    "    $('div.back-to-top').hide();\n",
    "    $('nav#menubar').hide();\n",
    "    $('.breadcrumb').hide();\n",
    "    $('.hidden-print').hide();\n",
    "  });\n",
    "</script>\n",
    "\n",
    "<footer id=\"attribution\" style=\"float:right; color:#808080; background:#fff;\">\n",
    "Created with Jupyter by Oscar David Jaramillo Zuluaga.\n",
    "</footer>"
   ]
  },
  {
   "cell_type": "markdown",
   "metadata": {},
   "source": [
    "SOLUCIÓN ARTURO"
   ]
  },
  {
   "cell_type": "code",
   "execution_count": 75,
   "metadata": {},
   "outputs": [],
   "source": [
    "def casino():\n",
    "    cuenta = 0\n",
    "\n",
    "    for _ in range(100):\n",
    "        dado = random.randint(1, 6)\n",
    "         \n",
    "        if dado % 2 == 0:\n",
    "            cuenta += 1\n",
    "        else:\n",
    "            cuenta -= 1\n",
    "    return cuenta\n",
    "\n",
    "n = 100\n",
    "sum_cuenta = sum(casino() for _ in range(num_simulaciones))\n",
    "\n",
    "prob_ganar = sum_cuenta / (n * 100)"
   ]
  },
  {
   "cell_type": "code",
   "execution_count": 76,
   "metadata": {},
   "outputs": [
    {
     "name": "stdout",
     "output_type": "stream",
     "text": [
      "La probabilidad de que un jugador gane después de 100 lanzamientos: -0.26%\n"
     ]
    }
   ],
   "source": [
    "#NOTA, es necesario correr el codigo de arriba nuevamnte para que el valor en este cambie\n",
    "print(f\"La probabilidad de que un jugador gane después de 100 lanzamientos: {prob_ganar:.2%}\")"
   ]
  },
  {
   "cell_type": "code",
   "execution_count": 90,
   "metadata": {},
   "outputs": [],
   "source": [
    "def casino2():\n",
    "    cuenta = 0\n",
    "\n",
    "    for _ in range(100):\n",
    "        dado = random.randint(1, 6)\n",
    "         \n",
    "        if dado % 2 == 0:\n",
    "            cuenta += 2 #SOLO SE TIENE QUE MODIFICAR ESTE VALOR\n",
    "        else:\n",
    "            cuenta -= 1\n",
    "    return cuenta\n",
    "\n",
    "n = 100\n",
    "sum_cuenta = sum(casino() for _ in range(num_simulaciones))\n",
    "\n",
    "prob_ganar = sum_cuenta / (n * 100)"
   ]
  },
  {
   "cell_type": "code",
   "execution_count": 91,
   "metadata": {
    "scrolled": true
   },
   "outputs": [
    {
     "name": "stdout",
     "output_type": "stream",
     "text": [
      "La probabilidad de que un jugador gane después de 100 lanzamientos: $50.16\n"
     ]
    }
   ],
   "source": [
    "print(f\"La probabilidad de que un jugador gane después de 100 lanzamientos: ${ganancia_promedio:.2f}\")"
   ]
  },
  {
   "cell_type": "markdown",
   "metadata": {},
   "source": [
    "SOLUCIÓN ESTUDIANTE 2 EJ 1"
   ]
  },
  {
   "cell_type": "code",
   "execution_count": null,
   "metadata": {},
   "outputs": [],
   "source": []
  },
  {
   "cell_type": "markdown",
   "metadata": {},
   "source": [
    "SOLUCIÓN ESTUDIANTE 2 EJ 2"
   ]
  },
  {
   "cell_type": "code",
   "execution_count": null,
   "metadata": {},
   "outputs": [],
   "source": []
  }
 ],
 "metadata": {
  "kernelspec": {
   "display_name": "Python 3",
   "language": "python",
   "name": "python3"
  },
  "language_info": {
   "codemirror_mode": {
    "name": "ipython",
    "version": 3
   },
   "file_extension": ".py",
   "mimetype": "text/x-python",
   "name": "python",
   "nbconvert_exporter": "python",
   "pygments_lexer": "ipython3",
   "version": "3.8.8"
  }
 },
 "nbformat": 4,
 "nbformat_minor": 2
}
